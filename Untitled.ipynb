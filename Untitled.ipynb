{
 "cells": [
  {
   "cell_type": "code",
   "execution_count": 17,
   "id": "b08847a7",
   "metadata": {},
   "outputs": [],
   "source": [
    "import pandas as pd"
   ]
  },
  {
   "cell_type": "code",
   "execution_count": 18,
   "id": "d51bcc8a",
   "metadata": {},
   "outputs": [
    {
     "name": "stderr",
     "output_type": "stream",
     "text": [
      "<ipython-input-18-a1804b93bdc1>:1: DtypeWarning: Columns (0) have mixed types. Specify dtype option on import or set low_memory=False.\n",
      "  df=pd.read_csv('selected_data.csv')\n"
     ]
    }
   ],
   "source": [
    "df=pd.read_csv('selected_data.csv')"
   ]
  },
  {
   "cell_type": "code",
   "execution_count": 19,
   "id": "62165aa9",
   "metadata": {},
   "outputs": [
    {
     "data": {
      "text/plain": [
       "price                   11.49\n",
       "asin               0060009810\n",
       "imageurlhighres            []\n",
       "Name: 2, dtype: object"
      ]
     },
     "execution_count": 19,
     "metadata": {},
     "output_type": "execute_result"
    }
   ],
   "source": [
    "df.iloc[2]"
   ]
  },
  {
   "cell_type": "code",
   "execution_count": 20,
   "id": "bd30b9a2",
   "metadata": {},
   "outputs": [],
   "source": [
    "import numpy as np\n",
    "\n",
    "for i in range(len(df['price'])):\n",
    "    if pd.isnull(df.loc[i, 'price']):\n",
    "        df.loc[i, 'price'] = '100'"
   ]
  },
  {
   "cell_type": "code",
   "execution_count": 21,
   "id": "85994fa1",
   "metadata": {},
   "outputs": [],
   "source": [
    "for i in range(len(df['price'])):\n",
    "    df.loc[i, 'price'] = '(' + str(df.loc[i, 'price'])\n"
   ]
  },
  {
   "cell_type": "code",
   "execution_count": 22,
   "id": "4c8c394f",
   "metadata": {},
   "outputs": [
    {
     "data": {
      "text/plain": [
       "0         (65.00\n",
       "1           (100\n",
       "2         (11.49\n",
       "3           (100\n",
       "4         (13.95\n",
       "           ...  \n",
       "786440      (100\n",
       "786441      (100\n",
       "786442      (100\n",
       "786443      (100\n",
       "786444      (100\n",
       "Name: price, Length: 786445, dtype: object"
      ]
     },
     "execution_count": 22,
     "metadata": {},
     "output_type": "execute_result"
    }
   ],
   "source": [
    "df['price']"
   ]
  },
  {
   "cell_type": "code",
   "execution_count": 24,
   "id": "a9f72b6e",
   "metadata": {},
   "outputs": [],
   "source": [
    "for i in range(len(df['imageurlhighres'])):\n",
    "    if isinstance(df.loc[i, 'imageurlhighres'], str) and len(df.loc[i, 'imageurlhighres']) > 0:\n",
    "        df.loc[i, 'imageurlhighres'] = df.loc[i, 'imageurlhighres'][1:-1] + ')'\n"
   ]
  },
  {
   "cell_type": "code",
   "execution_count": 27,
   "id": "aa4ec69d",
   "metadata": {},
   "outputs": [
    {
     "data": {
      "text/plain": [
       "0         'https://images-na.ssl-images-amazon.com/image...\n",
       "1         'https://images-na.ssl-images-amazon.com/image...\n",
       "2                                                         )\n",
       "3                                                         )\n",
       "4                                                         )\n",
       "                                ...                        \n",
       "786440    'https://images-na.ssl-images-amazon.com/image...\n",
       "786441    'https://images-na.ssl-images-amazon.com/image...\n",
       "786442    'https://images-na.ssl-images-amazon.com/image...\n",
       "786443    'https://images-na.ssl-images-amazon.com/image...\n",
       "786444    'https://images-na.ssl-images-amazon.com/image...\n",
       "Name: imageurlhighres, Length: 786445, dtype: object"
      ]
     },
     "execution_count": 27,
     "metadata": {},
     "output_type": "execute_result"
    }
   ],
   "source": [
    "df['imageurlhighres']"
   ]
  },
  {
   "cell_type": "code",
   "execution_count": 26,
   "id": "906791fc",
   "metadata": {},
   "outputs": [
    {
     "name": "stderr",
     "output_type": "stream",
     "text": [
      "<ipython-input-26-729d92d8395d>:1: FutureWarning: The default value of regex will change from True to False in a future version.\n",
      "  df['imageurlhighres'] = df['imageurlhighres'].str.replace(r',.*', ')')\n"
     ]
    }
   ],
   "source": [
    "df['imageurlhighres'] = df['imageurlhighres'].str.replace(r',.*', ')')\n"
   ]
  },
  {
   "cell_type": "code",
   "execution_count": 29,
   "id": "d1f9dbb6",
   "metadata": {},
   "outputs": [],
   "source": [
    "df.loc[df['imageurlhighres'] == ')', 'imageurlhighres'] = 'NULL)'\n"
   ]
  },
  {
   "cell_type": "code",
   "execution_count": 31,
   "id": "e42554be",
   "metadata": {},
   "outputs": [],
   "source": [
    "df['imageurlhighres'] = df['imageurlhighres'] + ','"
   ]
  },
  {
   "cell_type": "code",
   "execution_count": 33,
   "id": "1f040993",
   "metadata": {},
   "outputs": [],
   "source": [
    "df['asin'] = \"'\" + df['asin'] + \"'\""
   ]
  },
  {
   "cell_type": "code",
   "execution_count": 34,
   "id": "058610c5",
   "metadata": {},
   "outputs": [],
   "source": [
    "df.to_csv('./products.csv', index=False)\n"
   ]
  },
  {
   "cell_type": "code",
   "execution_count": 37,
   "id": "ce116dee",
   "metadata": {},
   "outputs": [],
   "source": [
    "if i in df['price']:\n",
    "    if(',' in str(i)):\n",
    "        print(i)"
   ]
  },
  {
   "cell_type": "code",
   "execution_count": null,
   "id": "120dc4fb",
   "metadata": {},
   "outputs": [],
   "source": []
  }
 ],
 "metadata": {
  "kernelspec": {
   "display_name": "Python 3",
   "language": "python",
   "name": "python3"
  },
  "language_info": {
   "codemirror_mode": {
    "name": "ipython",
    "version": 3
   },
   "file_extension": ".py",
   "mimetype": "text/x-python",
   "name": "python",
   "nbconvert_exporter": "python",
   "pygments_lexer": "ipython3",
   "version": "3.8.11"
  }
 },
 "nbformat": 4,
 "nbformat_minor": 5
}
